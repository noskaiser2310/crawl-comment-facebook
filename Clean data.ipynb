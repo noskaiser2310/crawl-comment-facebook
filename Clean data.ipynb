{
 "cells": [
  {
   "cell_type": "code",
   "execution_count": 16,
   "metadata": {},
   "outputs": [],
   "source": [
    "import pandas as pd\n"
   ]
  },
  {
   "cell_type": "code",
   "execution_count": 10,
   "metadata": {},
   "outputs": [],
   "source": [
    "df = pd.read_csv('1.csv')"
   ]
  },
  {
   "cell_type": "code",
   "execution_count": 11,
   "metadata": {},
   "outputs": [
    {
     "data": {
      "text/html": [
       "<div>\n",
       "<style scoped>\n",
       "    .dataframe tbody tr th:only-of-type {\n",
       "        vertical-align: middle;\n",
       "    }\n",
       "\n",
       "    .dataframe tbody tr th {\n",
       "        vertical-align: top;\n",
       "    }\n",
       "\n",
       "    .dataframe thead th {\n",
       "        text-align: right;\n",
       "    }\n",
       "</style>\n",
       "<table border=\"1\" class=\"dataframe\">\n",
       "  <thead>\n",
       "    <tr style=\"text-align: right;\">\n",
       "      <th></th>\n",
       "      <th>comment</th>\n",
       "      <th>link</th>\n",
       "    </tr>\n",
       "  </thead>\n",
       "  <tbody>\n",
       "    <tr>\n",
       "      <th>0</th>\n",
       "      <td>{'Giáp Văn Khánh-Cf'}</td>\n",
       "      <td>https://www.facebook.com/groups/28448373470936...</td>\n",
       "    </tr>\n",
       "    <tr>\n",
       "      <th>1</th>\n",
       "      <td>{'Kim Đình Tuấn + Cf'}</td>\n",
       "      <td>https://www.facebook.com/groups/28448373470936...</td>\n",
       "    </tr>\n",
       "    <tr>\n",
       "      <th>2</th>\n",
       "      <td>{'Nguyễn Đức Hoàng Phúc cf'}</td>\n",
       "      <td>https://www.facebook.com/groups/28448373470936...</td>\n",
       "    </tr>\n",
       "    <tr>\n",
       "      <th>3</th>\n",
       "      <td>{'Lê Đức Hiệp cf'}</td>\n",
       "      <td>https://www.facebook.com/groups/28448373470936...</td>\n",
       "    </tr>\n",
       "    <tr>\n",
       "      <th>4</th>\n",
       "      <td>{'Vũ Quang Minh cf'}</td>\n",
       "      <td>https://www.facebook.com/groups/28448373470936...</td>\n",
       "    </tr>\n",
       "    <tr>\n",
       "      <th>5</th>\n",
       "      <td>{'Trần Quốc Cường cf'}</td>\n",
       "      <td>https://www.facebook.com/groups/28448373470936...</td>\n",
       "    </tr>\n",
       "    <tr>\n",
       "      <th>6</th>\n",
       "      <td>{'Phan Trọng Cường cf'}</td>\n",
       "      <td>https://www.facebook.com/groups/28448373470936...</td>\n",
       "    </tr>\n",
       "    <tr>\n",
       "      <th>7</th>\n",
       "      <td>{'Phạm trung tùng cf'}</td>\n",
       "      <td>https://www.facebook.com/groups/28448373470936...</td>\n",
       "    </tr>\n",
       "    <tr>\n",
       "      <th>8</th>\n",
       "      <td>{'Nguyễn Trâm Anh cf'}</td>\n",
       "      <td>https://www.facebook.com/groups/28448373470936...</td>\n",
       "    </tr>\n",
       "    <tr>\n",
       "      <th>9</th>\n",
       "      <td>{'Đỗ Ngọc Bích'}</td>\n",
       "      <td>https://www.facebook.com/groups/28448373470936...</td>\n",
       "    </tr>\n",
       "  </tbody>\n",
       "</table>\n",
       "</div>"
      ],
      "text/plain": [
       "                        comment  \\\n",
       "0         {'Giáp Văn Khánh-Cf'}   \n",
       "1        {'Kim Đình Tuấn + Cf'}   \n",
       "2  {'Nguyễn Đức Hoàng Phúc cf'}   \n",
       "3            {'Lê Đức Hiệp cf'}   \n",
       "4          {'Vũ Quang Minh cf'}   \n",
       "5        {'Trần Quốc Cường cf'}   \n",
       "6       {'Phan Trọng Cường cf'}   \n",
       "7        {'Phạm trung tùng cf'}   \n",
       "8        {'Nguyễn Trâm Anh cf'}   \n",
       "9              {'Đỗ Ngọc Bích'}   \n",
       "\n",
       "                                                link  \n",
       "0  https://www.facebook.com/groups/28448373470936...  \n",
       "1  https://www.facebook.com/groups/28448373470936...  \n",
       "2  https://www.facebook.com/groups/28448373470936...  \n",
       "3  https://www.facebook.com/groups/28448373470936...  \n",
       "4  https://www.facebook.com/groups/28448373470936...  \n",
       "5  https://www.facebook.com/groups/28448373470936...  \n",
       "6  https://www.facebook.com/groups/28448373470936...  \n",
       "7  https://www.facebook.com/groups/28448373470936...  \n",
       "8  https://www.facebook.com/groups/28448373470936...  \n",
       "9  https://www.facebook.com/groups/28448373470936...  "
      ]
     },
     "execution_count": 11,
     "metadata": {},
     "output_type": "execute_result"
    }
   ],
   "source": [
    "df.head(10)"
   ]
  },
  {
   "cell_type": "code",
   "execution_count": 12,
   "metadata": {},
   "outputs": [],
   "source": [
    "df = df[~df['comment'].str.contains(\"vắng\")]\n",
    "df['link'] = df['link'].str.split('/').str[-2]\n",
    "a = [\"'\",'}','{','cf','+','-','Cf' ]\n",
    "for i in a:\n",
    "    df['comment'] = df['comment'].str.replace(i, \"\")"
   ]
  },
  {
   "cell_type": "code",
   "execution_count": 13,
   "metadata": {},
   "outputs": [],
   "source": [
    "#57 đặc biệt xử lý tay ạ "
   ]
  },
  {
   "cell_type": "code",
   "execution_count": 14,
   "metadata": {},
   "outputs": [],
   "source": [
    "df['link'] = df['link'].apply(lambda x: \"https://www.facebook.com/profile.php?id=\" + x)\n"
   ]
  },
  {
   "cell_type": "code",
   "execution_count": 15,
   "metadata": {},
   "outputs": [],
   "source": [
    "df.to_csv('member.csv')"
   ]
  }
 ],
 "metadata": {
  "kernelspec": {
   "display_name": "env_ds",
   "language": "python",
   "name": "python3"
  },
  "language_info": {
   "codemirror_mode": {
    "name": "ipython",
    "version": 3
   },
   "file_extension": ".py",
   "mimetype": "text/x-python",
   "name": "python",
   "nbconvert_exporter": "python",
   "pygments_lexer": "ipython3",
   "version": "3.10.13"
  }
 },
 "nbformat": 4,
 "nbformat_minor": 2
}
