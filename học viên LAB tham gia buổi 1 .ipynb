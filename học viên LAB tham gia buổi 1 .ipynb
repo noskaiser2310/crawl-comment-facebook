{
 "cells": [
  {
   "cell_type": "code",
   "execution_count": 60,
   "metadata": {},
   "outputs": [],
   "source": [
    "# Nhập các thư viện cần thiết\n",
    "from time import sleep\n",
    "import random\n",
    "import pandas as pd\n",
    "from selenium import webdriver\n",
    "from selenium.webdriver.chrome.options import Options\n",
    "from selenium.webdriver.common.keys import Keys\n",
    "from selenium.webdriver.common.by import By\n",
    "from selenium.webdriver.support.ui import WebDriverWait\n",
    "from selenium.webdriver.support import expected_conditions as EC\n",
    "from collections import OrderedDict\n"
   ]
  },
  {
   "cell_type": "code",
   "execution_count": 61,
   "metadata": {},
   "outputs": [],
   "source": [
    "\n",
    "# Thông tin đăng nhập \n",
    "username = \"\"\n",
    "password = \"\"\n",
    "\n",
    "chrome_options = Options()\n",
    "chrome_options.add_argument(\"--disable-notifications\")\n",
    "# Khởi tạo trình duyệt và mở trang đăng nhập Facebook\n",
    "driver = webdriver.Chrome(options=chrome_options)\n",
    "driver.get(\"https://www.facebook.com\")\n",
    "\n",
    "# Đợi cho trang đăng nhập được tải\n",
    "WebDriverWait(driver, 10).until(EC.presence_of_element_located((By.ID, \"email\")))\n",
    "\n",
    "# Tìm phần tử email và nhập thông tin đăng nhập\n",
    "email_input = driver.find_element(By.ID, \"email\")\n",
    "email_input.send_keys(username)\n",
    "\n",
    "# Tìm phần tử password và nhập thông tin đăng nhập\n",
    "password_input = driver.find_element(By.ID, \"pass\")\n",
    "password_input.send_keys(password)\n",
    "\n",
    "# Tìm và bấm nút \"Đăng nhập\"\n",
    "login_button = driver.find_element(By.CSS_SELECTOR, \"button[type='submit']\")\n",
    "login_button.click()\n",
    "sleep(8)\n",
    "\n",
    "\n"
   ]
  },
  {
   "cell_type": "code",
   "execution_count": 62,
   "metadata": {},
   "outputs": [],
   "source": [
    "# Truy cập vào bài viết cần lấy comment\n",
    "driver.get(\"https://www.facebook.com/photo?fbid=122129711996228305&set=gm.285580561266346&idorvanity=284483734709362\")\n",
    "sleep(5)\n",
    "#(phần dưới ra chút lỗi cần thao tác bằng tay)\n",
    "# # Hiển thị tất cả bình luận\n",
    "# choice = driver.find_element(By.XPATH,'//*[@id=\"mount_0_0_FU\"]/div/div[1]/div/div[3]/div/div/div[1]/div[1]/div/div[2]/div/div/div/div[1]/div[4]/div[1]/div/div/span')\n",
    "# choice.click()\n",
    "# sleep(10)\n",
    "# show_all_comments = driver.find_element(By.XPATH,\"/html/body/div[1]/div/div[1]/div/div[3]/div/div/div[2]/div/div/div[1]/div[1]/div/div/div/div/div/div/div[1]/div/div[3]/div[1]/div/div[2]/span\")\n",
    "# show_all_comments.click()\n",
    "# sleep(5)\n",
    "\n",
    "# while True:\n",
    "#     try:\n",
    "#         # Cuộn trang web tới cuối của thanh cuộn\n",
    "#         scrollbar = driver.find_element(By.XPATH,\"//*[@id='watch_feed']/div/div[1]/div/div/div[2]/div[3]/div[1]/div[2]\")\n",
    "#         driver.execute_script(\"arguments[0].scrollTop = arguments[0].scrollHeight\", scrollbar)\n",
    "#         sleep(2)\n",
    "#         # Tìm nút \"Xem thêm\"\n",
    "#         load_more_button = driver.find_element(By.XPATH, '//*[@id=\"watch_feed\"]/div/div[1]/div/div/div[2]/div[3]/div[1]/div[2]/div[3]/div[1]/div/div[2]/span/span')   \n",
    "#         for i in range(600//50) :\n",
    "#          load_more_button.click()\n",
    "#          sleep(5)\n",
    "#     except Exception as e:\n",
    "#         print(f\"Không thể tải thêm bình luận: {e}\")\n",
    "#         break"
   ]
  },
  {
   "cell_type": "code",
   "execution_count": 66,
   "metadata": {},
   "outputs": [],
   "source": [
    "# Lấy tất cả các phần tử bình luận\n",
    "comment_elements = driver.find_elements(By.XPATH, '//div[@role=\"article\"]')\n",
    "comment_data = []\n",
    "# Duyệt qua từng phần tử bình luận\n",
    "for comment_element in comment_elements:      \n",
    "        content = comment_element.find_element(By.XPATH, './/div[@class=\"x1lliihq xjkvuk6 x1iorvi4\"]')\n",
    "        comment_text = content.text      \n",
    "        comment_data.append({comment_text})   \n",
    "link_comment=[]\n",
    "link_elements = WebDriverWait(driver, 10).until( EC.presence_of_all_elements_located((By.CSS_SELECTOR, 'a[href^=\"/groups/\"][href*=\"/user/\"]')))\n",
    "for link_element in link_elements:\n",
    "            link = link_element.get_attribute(\"href\")\n",
    "            link_comment.append(link)\n",
    "link_comment = list(OrderedDict.fromkeys(link_comment))"
   ]
  },
  {
   "cell_type": "code",
   "execution_count": 67,
   "metadata": {},
   "outputs": [],
   "source": [
    "link_comment.remove(link_comment[0])"
   ]
  },
  {
   "cell_type": "code",
   "execution_count": 68,
   "metadata": {},
   "outputs": [],
   "source": [
    "comment = dict(comment=tuple(comment_data), link=tuple(link_comment))\n",
    "# Tạo DataFrame từ danh sách dữ liệu\n",
    "f1 = pd.DataFrame(comment)\n",
    "# Xuất dữ liệu ra file CSV\n",
    "f1.to_csv(\"1.csv\", index=False)\n",
    "# driver.quit()"
   ]
  }
 ],
 "metadata": {
  "kernelspec": {
   "display_name": "env_cl",
   "language": "python",
   "name": "python3"
  },
  "language_info": {
   "codemirror_mode": {
    "name": "ipython",
    "version": 3
   },
   "file_extension": ".py",
   "mimetype": "text/x-python",
   "name": "python",
   "nbconvert_exporter": "python",
   "pygments_lexer": "ipython3",
   "version": "3.10.13"
  }
 },
 "nbformat": 4,
 "nbformat_minor": 2
}
